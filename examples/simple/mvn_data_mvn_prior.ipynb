{
 "cells": [
  {
   "cell_type": "markdown",
   "metadata": {
    "pycharm": {
     "name": "#%% md\n"
    }
   },
   "source": [
    "# Multivariate Normal Likelihood with Multivariate Normal Prior\n",
    "\n",
    "This is a simple model where our data, $y$, is modelled as a multivariate normal RV with uncorrelated noise.\n",
    "\n",
    "$L(x) = p(y | x) = \\mathcal{N}[y \\mid x,\\Sigma]$\n",
    "\n",
    "and\n",
    "\n",
    "$p(x) = \\mathcal{N}[x \\mid \\mu, \\sigma^2 \\mathbf{I}]$.\n",
    "\n",
    "The analytic evidence for this model is,\n",
    "\n",
    "$Z = p(y) = = \\mathcal{N}[y \\mid \\mu, \\Sigma + \\sigma^2 \\mathbf{I}]$\n",
    "\n",
    "The posterior is also a multivariate normal distribution,\n",
    "\n",
    "$p(x \\mid y) = \\mathcal{N}[\\mu', \\Sigma']$\n",
    "\n",
    "where\n",
    "\n",
    "$\\mu' = \\sigma^2 \\mathbf{I} (\\sigma^2 \\mathbf{I} + \\Sigma)^{-1} y + \\Sigma (\n",
    "    \\sigma^2 \\mathbf{I} + \\Sigma)^{-1}  \\mu$\n",
    "\n",
    "and\n",
    "\n",
    "$\\Sigma' = \\sigma^2 \\mathbf{I}  (\\sigma^2 \\mathbf{I}  + \\Sigma)^{-1} \\Sigma$\n",
    "\n",
    "## Overview\n",
    "\n",
    "We'll cover the following topics:\n",
    "\n",
    "1. How to define your prior with a `PriorChain` context.\n",
    "2. How to define your likelihood\n",
    "3. How to compute Bayesian evidence of your model with standard nested sampling (without much tuning of parameters).\n",
    "4. How to inspect and plot your results.\n",
    "5. How to save and load your results.\n",
    "6. How to time your execution.\n",
    "7. How to marginalise over the posterior."
   ]
  },
  {
   "cell_type": "code",
   "execution_count": 1,
   "metadata": {},
   "outputs": [],
   "source": [
    "\n",
    "from jaxns import NestedSampler, save_results\n",
    "from jaxns.prior_transforms import PriorChain, MVNPrior\n",
    "from jaxns import summary, marginalise_dynamic\n",
    "from jaxns import plot_cornerplot, plot_diagnostics\n",
    "from jax.scipy.linalg import solve_triangular\n",
    "from jax import random, jit\n",
    "from jax import numpy as jnp\n",
    "from timeit import default_timer"
   ]
  },
  {
   "cell_type": "code",
   "execution_count": 2,
   "metadata": {
    "pycharm": {
     "is_executing": true,
     "name": "#%%\n"
    }
   },
   "outputs": [
    {
     "name": "stderr",
     "output_type": "stream",
     "text": [
      "INFO[2022-08-12 17:17:17,792]: Remote TPU is not linked into jax; skipping remote TPU.\n",
      "INFO[2022-08-12 17:17:17,792]: Unable to initialize backend 'tpu_driver': Could not initialize backend 'tpu_driver'\n",
      "INFO[2022-08-12 17:17:17,793]: Unable to initialize backend 'cuda': module 'jaxlib.xla_extension' has no attribute 'GpuAllocatorConfig'\n",
      "INFO[2022-08-12 17:17:17,793]: Unable to initialize backend 'rocm': module 'jaxlib.xla_extension' has no attribute 'GpuAllocatorConfig'\n",
      "INFO[2022-08-12 17:17:17,793]: Unable to initialize backend 'tpu': module 'jaxlib.xla_extension' has no attribute 'get_tpu_client'\n"
     ]
    },
    {
     "name": "stdout",
     "output_type": "stream",
     "text": [
      "True logZ=-4.964944362640381\n",
      "True post_mu=[1.4974875 1.4974874 1.4974874]\n",
      "True post_cov=[[0.25618201 0.24628092 0.24628092]\n",
      " [0.24628088 0.25618196 0.2462809 ]\n",
      " [0.24628091 0.24628091 0.2561819 ]]\n"
     ]
    }
   ],
   "source": [
    "def log_normal(x, mean, cov):\n",
    "    L = jnp.linalg.cholesky(cov)\n",
    "    dx = x - mean\n",
    "    dx = solve_triangular(L, dx, lower=True)\n",
    "    return -0.5 * x.size * jnp.log(2. * jnp.pi) - jnp.sum(jnp.log(jnp.diag(L))) \\\n",
    "           - 0.5 * dx @ dx\n",
    "\n",
    "# define our data and prior\n",
    "ndims = 3\n",
    "prior_mu = 2 * jnp.ones(ndims)\n",
    "prior_cov = jnp.diag(jnp.ones(ndims)) ** 2\n",
    "\n",
    "data_mu = jnp.zeros(ndims)\n",
    "data_cov = jnp.diag(jnp.ones(ndims)) ** 2\n",
    "data_cov = jnp.where(data_cov == 0., 0.99, data_cov)\n",
    "\n",
    "true_logZ = log_normal(data_mu, prior_mu, prior_cov + data_cov)\n",
    "\n",
    "J = jnp.linalg.solve(data_cov + prior_cov, prior_cov)\n",
    "post_mu = prior_mu + J.T @ (data_mu - prior_mu)\n",
    "post_cov = prior_cov - J.T @ (prior_cov + data_cov) @ J\n",
    "\n",
    "print(\"True logZ={}\".format(true_logZ))\n",
    "print(\"True post_mu={}\".format(post_mu))\n",
    "print(\"True post_cov={}\".format(post_cov))\n"
   ]
  },
  {
   "cell_type": "code",
   "execution_count": 3,
   "metadata": {
    "pycharm": {
     "is_executing": true,
     "name": "#%%\n"
    }
   },
   "outputs": [
    {
     "name": "stdout",
     "output_type": "stream",
     "text": [
      "        _x_Sigma ~ float32(3, 3) : DeltaPrior(array<(3, 3)>)\n",
      "        _x_mu ~ float32(3,) : DeltaPrior(array<(3,)>)\n",
      "tracked x ~ float32(3,) : MVNPrior(_x_mu,_x_Sigma)\n"
     ]
    },
    {
     "name": "stderr",
     "output_type": "stream",
     "text": [
      "/Users/alyttle/Repos/alexlyttle/jaxns/jaxns/prior_transforms/prior.py:132: FutureWarning: jax.tree_map is deprecated, and will be removed in a future release. Use jax.tree_util.tree_map instead.\n",
      "  self._shape = tree_map(lambda a: a.shape, output)\n",
      "/Users/alyttle/Repos/alexlyttle/jaxns/jaxns/prior_transforms/prior.py:133: FutureWarning: jax.tree_map is deprecated, and will be removed in a future release. Use jax.tree_util.tree_map instead.\n",
      "  self._dtype = tree_map(lambda a: a.dtype, output)\n"
     ]
    }
   ],
   "source": [
    "# A PriorChain holds the definition of your prior. A number of priors are provided, and really complex ones are easy to implement.\n",
    "\n",
    "# Simple use a PriorChain context like so to define your prior RVs.\n",
    "with PriorChain() as prior_chain:\n",
    "    MVNPrior('x', prior_mu, prior_cov)\n",
    "\n",
    "# We can print the prior model like so. This will should the generative structure of the model, the dtypes, and shapes of RVs.\n",
    "# In this case, it's a simple MVNPrior as defined above.\n",
    "print(prior_chain)\n",
    "\n",
    "# Note: you'll see _x_Sigma and _x_mu RVs. These are singular RVs (as shown by their DeltaPrior distributions). In JAXNS every parameter of a model can be a RV, which allows us to define complex hierarchical models."
   ]
  },
  {
   "cell_type": "code",
   "execution_count": 4,
   "metadata": {
    "pycharm": {
     "is_executing": true,
     "name": "#%%\n"
    }
   },
   "outputs": [],
   "source": [
    "# The likelihood is a callable that will take\n",
    "def log_likelihood(x):\n",
    "    return log_normal(x, data_mu, data_cov)\n",
    "\n"
   ]
  },
  {
   "cell_type": "code",
   "execution_count": 6,
   "metadata": {
    "pycharm": {
     "is_executing": true,
     "name": "#%%\n"
    }
   },
   "outputs": [
    {
     "name": "stderr",
     "output_type": "stream",
     "text": [
      "WARNING[2022-08-12 17:17:35,392]: Increasing max_samples (100000) by 200 to evenly divide samples_per_step\n",
      "WARNING[2022-08-12 17:17:35,398]: PriorChain was already built. You may be trying to re-use a PriorChain in another NestedSampler. Use the same sample NestedSampler.\n",
      "Running on TFRT_CPU_0: 10it [00:00, 51.36it/s, log_Z=-4.9167733, num_likelihood_evals=28859, step=0]\n"
     ]
    }
   ],
   "source": [
    "# Create the nested sampler class. In this case without any tuning.\n",
    "# gradient_boost=True will assist in situations with strongly correlated posteriors\n",
    "ns = NestedSampler(log_likelihood, prior_chain)\n",
    "# ns = NestedSampler(log_likelihood, prior_chain, dynamic=True)\n",
    "# jit compile\n",
    "ns = jit(ns)\n",
    "\n",
    "results = ns(random.PRNGKey(4525325), adaptive_evidence_patience=2)\n",
    "# results = ns(random.PRNGKey(4525325), termination_evidence_uncert=0.1)"
   ]
  },
  {
   "cell_type": "code",
   "execution_count": 6,
   "metadata": {
    "pycharm": {
     "is_executing": true,
     "name": "#%%\n"
    }
   },
   "outputs": [
    {
     "name": "stdout",
     "output_type": "stream",
     "text": [
      "--------\n",
      "Termination Conditions:\n",
      "Small remaining evidence\n",
      "--------\n",
      "# likelihood evals: 775622\n",
      "# samples: 3300\n",
      "# likelihood evals / sample: 235.0\n",
      "--------\n",
      "logZ=-5.17 +- 0.12\n",
      "H=5.9\n",
      "ESS=732\n"
     ]
    },
    {
     "name": "stderr",
     "output_type": "stream",
     "text": [
      "/Users/alyttle/Repos/alexlyttle/jaxns/jaxns/nested_sampler/utils.py:192: FutureWarning: jax.tree_map is deprecated, and will be removed in a future release. Use jax.tree_util.tree_map instead.\n",
      "  max_like_points = tree_map(lambda x: x[max_like_idx], results.samples)\n",
      "/Users/alyttle/Repos/alexlyttle/jaxns/jaxns/nested_sampler/utils.py:121: FutureWarning: jax.tree_map is deprecated, and will be removed in a future release. Use jax.tree_util.tree_map instead.\n",
      "  map_points = tree_map(lambda x: x[map_idx], results.samples)\n"
     ]
    },
    {
     "name": "stdout",
     "output_type": "stream",
     "text": [
      "--------\n",
      "x[#]: mean +- std.dev. | 10%ile / 50%ile / 90%ile | MAP est. | max(L) est.\n",
      "x[0]: 1.43 +- 0.53 | 0.77 / 1.41 / 2.15 | 1.06 | 0.01\n",
      "x[1]: 1.44 +- 0.54 | 0.78 / 1.44 / 2.13 | 0.78 | -0.0\n",
      "x[2]: 1.43 +- 0.54 | 0.77 / 1.43 / 2.15 | 0.92 | 0.0\n",
      "--------\n"
     ]
    },
    {
     "data": {
      "text/plain": [
       "'--------\\nTermination Conditions:\\nSmall remaining evidence\\n--------\\n# likelihood evals: 775622\\n# samples: 3300\\n# likelihood evals / sample: 235.0\\n--------\\nlogZ=-5.17 +- 0.12\\nH=5.9\\nESS=732\\n--------\\nx[#]: mean +- std.dev. | 10%ile / 50%ile / 90%ile | MAP est. | max(L) est.\\nx[0]: 1.43 +- 0.53 | 0.77 / 1.41 / 2.15 | 1.06 | 0.01\\nx[1]: 1.44 +- 0.54 | 0.78 / 1.44 / 2.13 | 0.78 | -0.0\\nx[2]: 1.43 +- 0.54 | 0.77 / 1.43 / 2.15 | 0.92 | 0.0\\n--------'"
      ]
     },
     "execution_count": 6,
     "metadata": {},
     "output_type": "execute_result"
    }
   ],
   "source": [
    "# We can use the summary utility to display results\n",
    "summary(results)"
   ]
  },
  {
   "cell_type": "code",
   "execution_count": 7,
   "metadata": {
    "pycharm": {
     "is_executing": true,
     "name": "#%%\n"
    }
   },
   "outputs": [
    {
     "name": "stderr",
     "output_type": "stream",
     "text": [
      "WARNING[2022-08-12 09:56:24,787]: No artists with labels found to put in legend.  Note that artists whose label start with an underscore are ignored when legend() is called with no argument.\n",
      "WARNING[2022-08-12 09:56:25,152]: No artists with labels found to put in legend.  Note that artists whose label start with an underscore are ignored when legend() is called with no argument.\n"
     ]
    },
    {
     "data": {
      "image/png": "[encoded data removed]",
      "text/plain": [
       "<Figure size 576x864 with 6 Axes>"
      ]
     },
     "metadata": {
      "needs_background": "light"
     },
     "output_type": "display_data"
    },
    {
     "data": {
      "image/png": "[encoded data removed]",
      "text/plain": [
       "<Figure size 432x432 with 6 Axes>"
      ]
     },
     "metadata": {
      "needs_background": "light"
     },
     "output_type": "display_data"
    }
   ],
   "source": [
    "# We plot useful diagnostics and a distribution cornerplot\n",
    "plot_diagnostics(results)\n",
    "plot_cornerplot(results)"
   ]
  },
  {
   "cell_type": "code",
   "execution_count": 8,
   "metadata": {
    "pycharm": {
     "is_executing": true,
     "name": "#%%\n"
    }
   },
   "outputs": [
    {
     "name": "stderr",
     "output_type": "stream",
     "text": [
      "/Users/alyttle/Repos/alexlyttle/jaxns/jaxns/nested_sampler/utils.py:318: FutureWarning: jax.tree_map is deprecated, and will be removed in a future release. Use jax.tree_util.tree_map instead.\n",
      "  pytree_np = tree_map(lambda v: np.asarray(v) if v is not None else None, pytree)\n"
     ]
    }
   ],
   "source": [
    "\n",
    "# We can always save results to play with later\n",
    "save_results(results, 'save.npz')\n",
    "# loads previous results by uncommenting below\n",
    "# results = load_results('save.npz')\n"
   ]
  },
  {
   "cell_type": "code",
   "execution_count": 9,
   "metadata": {
    "pycharm": {
     "is_executing": true,
     "name": "#%%\n"
    }
   },
   "outputs": [
    {
     "name": "stdout",
     "output_type": "stream",
     "text": [
      "1\n",
      "1\n",
      "1\n",
      "1\n",
      "1\n",
      "1\n",
      "1\n",
      "1\n",
      "1\n",
      "1\n",
      "Total run time: 1.0648249169999993 s\n"
     ]
    }
   ],
   "source": [
    "# Since our `ns` callable is already jit-compiled we can measure its performance.\n",
    "\n",
    "# now we time the run.\n",
    "t0 = default_timer()\n",
    "# run again and time it. You can change the key, and run a few times to get a statistic estimate too.\n",
    "results = ns(random.PRNGKey(4525325), adaptive_evidence_patience=2)\n",
    "# Here we block unti completion on any array in result.\n",
    "results.log_efficiency.block_until_ready()\n",
    "run_time = default_timer() - t0\n",
    "\n",
    "print(f\"Total run time: {run_time} s\")"
   ]
  },
  {
   "cell_type": "code",
   "execution_count": 10,
   "metadata": {
    "pycharm": {
     "is_executing": true,
     "name": "#%%\n"
    }
   },
   "outputs": [
    {
     "name": "stderr",
     "output_type": "stream",
     "text": [
      "/Users/alyttle/Repos/alexlyttle/jaxns/jaxns/nested_sampler/utils.py:69: FutureWarning: jax.tree_map is deprecated, and will be removed in a future release. Use jax.tree_util.tree_map instead.\n",
      "  test_output = fun(**tree_map(lambda v: v[0], samples))\n",
      "/Users/alyttle/Repos/alexlyttle/jaxns/jaxns/nested_sampler/utils.py:70: FutureWarning: jax.tree_map is deprecated, and will be removed in a future release. Use jax.tree_util.tree_map instead.\n",
      "  count = tree_map(lambda x: jnp.asarray(0, x.dtype), test_output)\n",
      "/Users/alyttle/Repos/alexlyttle/jaxns/jaxns/nested_sampler/utils.py:71: FutureWarning: jax.tree_map is deprecated, and will be removed in a future release. Use jax.tree_util.tree_map instead.\n",
      "  init_marginalised = tree_map(lambda x: jnp.zeros_like(x), test_output)\n",
      "/Users/alyttle/Repos/alexlyttle/jaxns/jaxns/nested_sampler/utils.py:61: FutureWarning: jax.tree_map is deprecated, and will be removed in a future release. Use jax.tree_util.tree_map instead.\n",
      "  _sample = tree_map(lambda v: v[0], _samples)\n",
      "/Users/alyttle/Repos/alexlyttle/jaxns/jaxns/nested_sampler/utils.py:63: FutureWarning: jax.tree_map is deprecated, and will be removed in a future release. Use jax.tree_util.tree_map instead.\n",
      "  count = tree_map(lambda y, c: jnp.where(jnp.any(jnp.isnan(y)), c, c + jnp.asarray(1, c.dtype)),\n",
      "/Users/alyttle/Repos/alexlyttle/jaxns/jaxns/nested_sampler/utils.py:65: FutureWarning: jax.tree_map is deprecated, and will be removed in a future release. Use jax.tree_util.tree_map instead.\n",
      "  marginalised = tree_map(lambda x, y: jnp.where(jnp.isnan(y), x, x + y.astype(x.dtype)),\n",
      "/Users/alyttle/Repos/alexlyttle/jaxns/jaxns/nested_sampler/utils.py:75: FutureWarning: jax.tree_map is deprecated, and will be removed in a future release. Use jax.tree_util.tree_map instead.\n",
      "  marginalised = tree_map(lambda x, c: x / c, marginalised, count)\n",
      "/Users/alyttle/Repos/alexlyttle/jaxns/jaxns/nested_sampler/utils.py:69: FutureWarning: jax.tree_map is deprecated, and will be removed in a future release. Use jax.tree_util.tree_map instead.\n",
      "  test_output = fun(**tree_map(lambda v: v[0], samples))\n",
      "/Users/alyttle/Repos/alexlyttle/jaxns/jaxns/nested_sampler/utils.py:70: FutureWarning: jax.tree_map is deprecated, and will be removed in a future release. Use jax.tree_util.tree_map instead.\n",
      "  count = tree_map(lambda x: jnp.asarray(0, x.dtype), test_output)\n",
      "/Users/alyttle/Repos/alexlyttle/jaxns/jaxns/nested_sampler/utils.py:71: FutureWarning: jax.tree_map is deprecated, and will be removed in a future release. Use jax.tree_util.tree_map instead.\n",
      "  init_marginalised = tree_map(lambda x: jnp.zeros_like(x), test_output)\n",
      "/Users/alyttle/Repos/alexlyttle/jaxns/jaxns/nested_sampler/utils.py:61: FutureWarning: jax.tree_map is deprecated, and will be removed in a future release. Use jax.tree_util.tree_map instead.\n",
      "  _sample = tree_map(lambda v: v[0], _samples)\n",
      "/Users/alyttle/Repos/alexlyttle/jaxns/jaxns/nested_sampler/utils.py:63: FutureWarning: jax.tree_map is deprecated, and will be removed in a future release. Use jax.tree_util.tree_map instead.\n",
      "  count = tree_map(lambda y, c: jnp.where(jnp.any(jnp.isnan(y)), c, c + jnp.asarray(1, c.dtype)),\n",
      "/Users/alyttle/Repos/alexlyttle/jaxns/jaxns/nested_sampler/utils.py:65: FutureWarning: jax.tree_map is deprecated, and will be removed in a future release. Use jax.tree_util.tree_map instead.\n",
      "  marginalised = tree_map(lambda x, y: jnp.where(jnp.isnan(y), x, x + y.astype(x.dtype)),\n"
     ]
    },
    {
     "name": "stdout",
     "output_type": "stream",
     "text": [
      "Estimated posterior mean:\n",
      "[1.4634608 1.4842371 1.4671737]\n",
      "True posterior mean:\n",
      "[1.4974875 1.4974874 1.4974874]\n",
      "Estimated posterior covariance:\n",
      "[[0.26920465 0.25800258 0.2563919 ]\n",
      " [0.25800258 0.26592284 0.25439394]\n",
      " [0.2563919  0.25439394 0.26280394]]\n",
      "True posterior covariance:\n",
      "[[0.25618201 0.24628092 0.24628092]\n",
      " [0.24628088 0.25618196 0.2462809 ]\n",
      " [0.24628091 0.24628091 0.2561819 ]]\n"
     ]
    },
    {
     "name": "stderr",
     "output_type": "stream",
     "text": [
      "/Users/alyttle/Repos/alexlyttle/jaxns/jaxns/nested_sampler/utils.py:75: FutureWarning: jax.tree_map is deprecated, and will be removed in a future release. Use jax.tree_util.tree_map instead.\n",
      "  marginalised = tree_map(lambda x, c: x / c, marginalised, count)\n"
     ]
    }
   ],
   "source": [
    "# Let us now consider how to marginalise over the posterior.\n",
    "\n",
    "def param_mean(x):\n",
    "    return x\n",
    "\n",
    "\n",
    "\n",
    "post_mean = marginalise_dynamic(random.PRNGKey(42),\n",
    "                    samples=results.samples,\n",
    "                    log_weights=results.log_dp_mean,\n",
    "                    ESS=results.ESS,\n",
    "                    fun=param_mean)\n",
    "\n",
    "def param_covariance(x):\n",
    "    dx = x - post_mean\n",
    "    return jnp.outer(dx, dx)\n",
    "\n",
    "post_covariance = marginalise_dynamic(random.PRNGKey(42),\n",
    "                    samples=results.samples,\n",
    "                    log_weights=results.log_dp_mean,\n",
    "                    ESS=results.ESS,\n",
    "                    fun=param_covariance)\n",
    "\n",
    "print(f\"Estimated posterior mean:\\n{post_mean}\")\n",
    "print(f\"True posterior mean:\\n{post_mu}\")\n",
    "\n",
    "print(f\"Estimated posterior covariance:\\n{post_covariance}\")\n",
    "print(f\"True posterior covariance:\\n{post_cov}\")"
   ]
  },
  {
   "cell_type": "code",
   "execution_count": 9,
   "metadata": {},
   "outputs": [],
   "source": [
    "from tqdm import tqdm"
   ]
  },
  {
   "cell_type": "code",
   "execution_count": 11,
   "metadata": {},
   "outputs": [
    {
     "name": "stderr",
     "output_type": "stream",
     "text": [
      "\n",
      "10it [00:00, 26051.58it/s]\n"
     ]
    }
   ],
   "source": [
    "pbar = tqdm()\n",
    "for i in range(10):\n",
    "    pbar.update()\n",
    "pbar.close()"
   ]
  },
  {
   "cell_type": "code",
   "execution_count": 17,
   "metadata": {},
   "outputs": [
    {
     "name": "stderr",
     "output_type": "stream",
     "text": [
      "\n",
      "                  \u001b[A"
     ]
    }
   ],
   "source": [
    "pbar.close()"
   ]
  },
  {
   "cell_type": "code",
   "execution_count": 25,
   "metadata": {},
   "outputs": [
    {
     "name": "stderr",
     "output_type": "stream",
     "text": [
      "15it [00:00, 32181.36it/s]\n"
     ]
    }
   ],
   "source": [
    "pbar = tqdm()\n",
    "done = False\n",
    "i = 0\n",
    "p = 3\n",
    "while not done:\n",
    "    i += 1\n",
    "    r = i % p\n",
    "    if r == 0:\n",
    "        pbar.update(p)\n",
    "    if i == 15:\n",
    "        done = True\n",
    "    if done:\n",
    "        pbar.update(r)\n",
    "pbar.close()"
   ]
  },
  {
   "cell_type": "code",
   "execution_count": 10,
   "metadata": {},
   "outputs": [
    {
     "name": "stderr",
     "output_type": "stream",
     "text": [
      "\r",
      "4it [00:12,  2.70s/it]"
     ]
    },
    {
     "data": {
      "text/plain": [
       "True"
      ]
     },
     "execution_count": 10,
     "metadata": {},
     "output_type": "execute_result"
    }
   ],
   "source": [
    "pbar.update(2)"
   ]
  },
  {
   "cell_type": "code",
   "execution_count": 13,
   "metadata": {},
   "outputs": [
    {
     "name": "stderr",
     "output_type": "stream",
     "text": [
      "12it [00:17,  1.45s/it]\n"
     ]
    }
   ],
   "source": [
    "pbar.close()"
   ]
  },
  {
   "cell_type": "code",
   "execution_count": 7,
   "metadata": {},
   "outputs": [
    {
     "ename": "TypeError",
     "evalue": "'int' object is not iterable",
     "output_type": "error",
     "traceback": [
      "\u001b[0;31m---------------------------------------------------------------------------\u001b[0m",
      "\u001b[0;31mTypeError\u001b[0m                                 Traceback (most recent call last)",
      "Input \u001b[0;32mIn [7]\u001b[0m, in \u001b[0;36m<cell line: 1>\u001b[0;34m()\u001b[0m\n\u001b[0;32m----> 1\u001b[0m a \u001b[38;5;241m=\u001b[39m \u001b[38;5;28;43mtuple\u001b[39;49m\u001b[43m(\u001b[49m\u001b[38;5;241;43m1\u001b[39;49m\u001b[43m)\u001b[49m\n",
      "\u001b[0;31mTypeError\u001b[0m: 'int' object is not iterable"
     ]
    }
   ],
   "source": [
    "tuple(1)"
   ]
  },
  {
   "cell_type": "code",
   "execution_count": 8,
   "metadata": {},
   "outputs": [
    {
     "ename": "TypeError",
     "evalue": "cannot unpack non-iterable int object",
     "output_type": "error",
     "traceback": [
      "\u001b[0;31m---------------------------------------------------------------------------\u001b[0m",
      "\u001b[0;31mTypeError\u001b[0m                                 Traceback (most recent call last)",
      "Input \u001b[0;32mIn [8]\u001b[0m, in \u001b[0;36m<cell line: 1>\u001b[0;34m()\u001b[0m\n\u001b[0;32m----> 1\u001b[0m a, \u001b[38;5;241m*\u001b[39mb \u001b[38;5;241m=\u001b[39m \u001b[38;5;241m1\u001b[39m\n",
      "\u001b[0;31mTypeError\u001b[0m: cannot unpack non-iterable int object"
     ]
    }
   ],
   "source": [
    "a, *b = 1"
   ]
  },
  {
   "cell_type": "code",
   "execution_count": 12,
   "metadata": {},
   "outputs": [
    {
     "data": {
      "text/plain": [
       "' 1'"
      ]
     },
     "execution_count": 12,
     "metadata": {},
     "output_type": "execute_result"
    }
   ],
   "source": [
    "f\"{1:2}\""
   ]
  },
  {
   "cell_type": "code",
   "execution_count": 7,
   "metadata": {},
   "outputs": [],
   "source": [
    "import jax"
   ]
  },
  {
   "cell_type": "code",
   "execution_count": 10,
   "metadata": {},
   "outputs": [
    {
     "data": {
      "text/plain": [
       "[CpuDevice(id=0)]"
      ]
     },
     "execution_count": 10,
     "metadata": {},
     "output_type": "execute_result"
    }
   ],
   "source": [
    "jax.devices()"
   ]
  },
  {
   "cell_type": "code",
   "execution_count": 10,
   "metadata": {},
   "outputs": [],
   "source": [
    "a = {\"a\": 0}"
   ]
  },
  {
   "cell_type": "code",
   "execution_count": 11,
   "metadata": {},
   "outputs": [],
   "source": [
    "del a[\"a\"]"
   ]
  },
  {
   "cell_type": "code",
   "execution_count": 12,
   "metadata": {},
   "outputs": [
    {
     "data": {
      "text/plain": [
       "{}"
      ]
     },
     "execution_count": 12,
     "metadata": {},
     "output_type": "execute_result"
    }
   ],
   "source": [
    "a"
   ]
  },
  {
   "cell_type": "code",
   "execution_count": null,
   "metadata": {},
   "outputs": [],
   "source": []
  }
 ],
 "metadata": {
  "kernelspec": {
   "display_name": "Python 3.9.9 (jaxns)",
   "language": "python",
   "name": "jaxns"
  },
  "language_info": {
   "codemirror_mode": {
    "name": "ipython",
    "version": 3
   },
   "file_extension": ".py",
   "mimetype": "text/x-python",
   "name": "python",
   "nbconvert_exporter": "python",
   "pygments_lexer": "ipython3",
   "version": "3.9.9"
  }
 },
 "nbformat": 4,
 "nbformat_minor": 1
}
